{
 "cells": [
  {
   "cell_type": "markdown",
   "id": "e85f3064",
   "metadata": {},
   "source": [
    "# Week 1: Getting started with Anaconda, Jupyter Notebook and Python\n",
    "\n",
    "### a) Chose this course as I am interested in the foundations of AI and how it can be used to benefit people and society.\n",
    "### b) Some experience with Python from higher computing science in high school but not completed in 4 years.\n",
    "### c) I want to learn how AI is created. How to effectively work AI. Legislation surrounding it. Its barriers and negatives."
   ]
  },
  {
   "cell_type": "code",
   "execution_count": null,
   "id": "785f0200",
   "metadata": {},
   "outputs": [],
   "source": [
    "print (\"Hello, World!\")"
   ]
  },
  {
   "cell_type": "code",
   "execution_count": null,
   "id": "7281bbc2",
   "metadata": {},
   "outputs": [],
   "source": [
    "message = \"Whale Shark\"\n",
    "\n",
    "print(message[10])"
   ]
  },
  {
   "cell_type": "code",
   "execution_count": null,
   "id": "8efeee8f",
   "metadata": {},
   "outputs": [],
   "source": [
    "from IPython.display import *"
   ]
  },
  {
   "cell_type": "code",
   "execution_count": null,
   "id": "4378e9f5",
   "metadata": {},
   "outputs": [],
   "source": [
    "YouTubeVideo(\"XmYfXgB9vxA\")"
   ]
  },
  {
   "cell_type": "code",
   "execution_count": null,
   "id": "1b0bb2e0",
   "metadata": {
    "scrolled": true
   },
   "outputs": [],
   "source": [
    "import webbrowser\n",
    "import requests\n",
    "\n",
    "print(\"Shall we hunt down an old website?\")\n",
    "site = input(\"Type a website URL: \")\n",
    "era = input(\"Type year, month and date, e.g., 20231005: \")\n",
    "url = \"http://archive.org/wayback/available?url=%s&timestamp=%s\" % (site, era)\n",
    "response = requests.get(url)\n",
    "data = response.json()\n",
    "try:\n",
    "    old_site = data[\"archived_snapshots\"][\"closest\"][\"url\"]\n",
    "    print(\"Found this copy \", old_site)\n",
    "    print(\"It should appear in your browser\")\n",
    "    webbrowser.open(old_site)\n",
    "except:\n",
    "    print(\"Sorry, could not find the site. \")"
   ]
  },
  {
   "cell_type": "markdown",
   "id": "f5946c8e",
   "metadata": {},
   "source": [
    "### Week 2 - Exploring Data in Multiple Ways"
   ]
  },
  {
   "cell_type": "code",
   "execution_count": null,
   "id": "1aed78d5",
   "metadata": {},
   "outputs": [],
   "source": [
    "from IPython.display import Image"
   ]
  },
  {
   "cell_type": "code",
   "execution_count": null,
   "id": "26effff3",
   "metadata": {},
   "outputs": [],
   "source": [
    "Image (\"images/picture1.jpg\")"
   ]
  },
  {
   "cell_type": "code",
   "execution_count": null,
   "id": "49ec88a3",
   "metadata": {},
   "outputs": [],
   "source": [
    "from IPython.display import Audio"
   ]
  },
  {
   "cell_type": "code",
   "execution_count": null,
   "id": "fcc8e4e7",
   "metadata": {},
   "outputs": [],
   "source": [
    "Audio (\"audio1.MIDI\")"
   ]
  },
  {
   "cell_type": "code",
   "execution_count": null,
   "id": "7d475110",
   "metadata": {},
   "outputs": [],
   "source": [
    "Audio (\"audio2.ogg\")\n",
    "#Artoffuge Mehmet Okonsar\n",
    "#This file is licensed under the Creative Commons Attribution-Share Alike 3.0 Unported license.\n",
    "You are free: \n",
    "•\tto share – to copy, distribute and transmit the work\n",
    "•\tto remix – to adapt the work\n",
    "Under the following conditions: \n",
    "•\tattribution – You must give appropriate credit, provide a link to the license, and indicate if changes were made. You may do so in any reasonable manner, but not in any way that suggests the licensor endorses you or your use.\n",
    "•\tshare alike – If you remix, transform, or build upon the material, you must distribute your contributions under the same or compatible license as the original.\n",
    "The original ogg file was found at the url: \n",
    "https://en.wikipedia.org/wiki/File:GoldbergVariations_MehmetOkonsar-1of3_Var1to10.ogg\n"
   ]
  },
  {
   "cell_type": "code",
   "execution_count": null,
   "id": "faec4435",
   "metadata": {
    "scrolled": true
   },
   "outputs": [],
   "source": [
    "Audio (\"audio1.mid\")"
   ]
  },
  {
   "cell_type": "markdown",
   "id": "62bd041e",
   "metadata": {},
   "source": [
    "Audio 2 works perfectly, yet audio 1 does not. I think this is due to an unsuported file type. "
   ]
  },
  {
   "cell_type": "markdown",
   "id": "1a6cb811",
   "metadata": {},
   "source": [
    "### matplotlib"
   ]
  },
  {
   "cell_type": "code",
   "execution_count": null,
   "id": "0fbff880",
   "metadata": {},
   "outputs": [],
   "source": [
    "from matplotlib import pyplot\n",
    "test_picture = pyplot.imread(\"picture1.jpg\")\n",
    "print(\"Numpy array of the image is: \", test_picture)\n",
    "pyplot.imshow(test_picture)"
   ]
  },
  {
   "cell_type": "code",
   "execution_count": null,
   "id": "baf5063e",
   "metadata": {},
   "outputs": [],
   "source": [
    "test_picture_filtered = 30*test_picture/100\n",
    "pyplot.imshow(test_picture_filtered)"
   ]
  },
  {
   "cell_type": "markdown",
   "id": "499ed71a",
   "metadata": {},
   "source": [
    "### Scikit-learn (sklearn)"
   ]
  },
  {
   "cell_type": "code",
   "execution_count": null,
   "id": "ee3aff17",
   "metadata": {},
   "outputs": [],
   "source": [
    "from sklearn import datasets"
   ]
  },
  {
   "cell_type": "code",
   "execution_count": null,
   "id": "70c2bebb",
   "metadata": {},
   "outputs": [],
   "source": [
    "dir(datasets)"
   ]
  },
  {
   "cell_type": "markdown",
   "id": "ba926de2",
   "metadata": {},
   "source": [
    "chose wine, breast cancer and diabetes. these are the only areas i know what they mean."
   ]
  },
  {
   "cell_type": "code",
   "execution_count": null,
   "id": "0d8edb52",
   "metadata": {},
   "outputs": [],
   "source": [
    "wine_data = datasets.load_wine()\n",
    "cancer_data = datasets.load_breast_cancer()\n",
    "diabetes_data = datasets.load_diabetes()"
   ]
  },
  {
   "cell_type": "code",
   "execution_count": null,
   "id": "feb68285",
   "metadata": {},
   "outputs": [],
   "source": [
    "print (wine_data.DESCR)"
   ]
  },
  {
   "cell_type": "code",
   "execution_count": null,
   "id": "78632abc",
   "metadata": {},
   "outputs": [],
   "source": [
    "print (cancer_data.DESCR)"
   ]
  },
  {
   "cell_type": "markdown",
   "id": "c7d1f20a",
   "metadata": {},
   "source": [
    "![picture](images/data-algorithm.png)"
   ]
  },
  {
   "cell_type": "markdown",
   "id": "cfc6d599",
   "metadata": {},
   "source": [
    "The data model would be analysed in response to the fav tv show and computing degree highering scheme. Data would be each persons fav tv show and if they have a computing degree. The model is a decision tree and the output was either hired or not hired. \n",
    "\n",
    "Example 2 was the decison tree algorithm of a model to diagnose leukaemia. The data needed was patients name. If the name equalled \"luke\" then the output would be suspect leukaemia and if patients name did not match \"Luke\" then the output would be negative. These examples are simpler for a wider audience to understand. \n",
    "Data, be it training data or new data to be inputted flows through the  algprithm to be sorted and categorised. The end result in an easy to understand outcome of different uses of the AI learning model and how training data can be tweaked to gain better results."
   ]
  },
  {
   "cell_type": "markdown",
   "id": "b4768e76",
   "metadata": {},
   "source": [
    "## Task 1-4\n",
    "\n",
    "The right machine learning model needs to be used from the start so that the AI has the longest possible time with the data."
   ]
  },
  {
   "cell_type": "markdown",
   "id": "0f7f98b1",
   "metadata": {},
   "source": [
    "Regression would better fit the median house prices problem and classification would better fit the handwriting problem.\n",
    "Handwriting, each piece must be classified whereas the housing prices need to be on a linear regression model like a line chart.\n",
    "Housing data that would need to be considered. Local prices, local transport and ammenities, crime rate, demand, condotion of the house and many more.\n"
   ]
  },
  {
   "cell_type": "code",
   "execution_count": null,
   "id": "34bb2eab",
   "metadata": {},
   "outputs": [],
   "source": [
    "from pathlib import Path\n",
    "import pandas as pd\n",
    "import tarfile\n",
    "import urllib.request\n",
    "\n",
    "def load_housing_data(): #defines a function that loads the housing data available as .tgz file on a github URL\n",
    "    tarball_path = Path(\"datasets/housing.tgz\") # where you will save your compressed data\n",
    "    if not tarball_path.is_file():\n",
    "        Path(\"datasets\").mkdir(parents=True, exist_ok=True) #create datasets folder if it does not exist\n",
    "        url = \"https://github.com/ageron/data/raw/main/housing.tgz\" # url of where you are getting your data from\n",
    "        urllib.request.urlretrieve(url, tarball_path) # gets the url content and saves it at location specified by tarball_path\n",
    "        with tarfile.open(tarball_path) as housing_tarball: # opens saved compressed file as housing_tarball\n",
    "            housing_tarball.extractall(path=\"datasets\") # extracts the compressed content to datasets folder\n",
    "    return pd.read_csv(Path(\"datasets/housing/housing.csv\")) #uses panadas to read the csv file from the extracted content\n",
    "\n",
    "housing = load_housing_data() #runsthe function defined above"
   ]
  },
  {
   "cell_type": "code",
   "execution_count": null,
   "id": "140a0221",
   "metadata": {},
   "outputs": [],
   "source": [
    "import pandas as pd\n",
    "from pathlib import Path\n",
    "\n",
    "housing = pd.read_csv(Path(\"datasets/housing/housing.csv\"))"
   ]
  },
  {
   "cell_type": "code",
   "execution_count": null,
   "id": "b0ede980",
   "metadata": {},
   "outputs": [],
   "source": [
    "housing.info()"
   ]
  },
  {
   "cell_type": "code",
   "execution_count": null,
   "id": "d4bcc8fb",
   "metadata": {},
   "outputs": [],
   "source": [
    "housing[\"ocean_proximity\"].value_counts()"
   ]
  },
  {
   "cell_type": "code",
   "execution_count": null,
   "id": "6ec9fa17",
   "metadata": {},
   "outputs": [],
   "source": [
    "housing.hist(bins=50, figsize=(12, 8))\n",
    "save_fig(\"attribute_histogram_plots\")  # extra code\n",
    "plt.show()"
   ]
  },
  {
   "cell_type": "code",
   "execution_count": null,
   "id": "42672213",
   "metadata": {},
   "outputs": [],
   "source": [
    "housing.describe()"
   ]
  },
  {
   "cell_type": "code",
   "execution_count": null,
   "id": "f7466e39",
   "metadata": {},
   "outputs": [],
   "source": [
    "from sklearn.datasets import fetch_openml\n",
    "import pandas as pd\n",
    "\n",
    "mnist = fetch_openml('mnist_784', as_frame=False, parser='auto')\n",
    "\n",
    "#mnist_dataframe = pd.DataFrame(data=mnist.data, columns=mnist.feature_names)"
   ]
  },
  {
   "cell_type": "code",
   "execution_count": null,
   "id": "ad346dc5",
   "metadata": {},
   "outputs": [],
   "source": [
    "print(mnist.DESCR)"
   ]
  },
  {
   "cell_type": "code",
   "execution_count": null,
   "id": "72a3d6f4",
   "metadata": {},
   "outputs": [],
   "source": []
  }
 ],
 "metadata": {
  "kernelspec": {
   "display_name": "Python 3 (ipykernel)",
   "language": "python",
   "name": "python3"
  },
  "language_info": {
   "codemirror_mode": {
    "name": "ipython",
    "version": 3
   },
   "file_extension": ".py",
   "mimetype": "text/x-python",
   "name": "python",
   "nbconvert_exporter": "python",
   "pygments_lexer": "ipython3",
   "version": "3.9.18"
  }
 },
 "nbformat": 4,
 "nbformat_minor": 5
}
